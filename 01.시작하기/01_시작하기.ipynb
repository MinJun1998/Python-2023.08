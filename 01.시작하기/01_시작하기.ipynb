{
  "nbformat": 4,
  "nbformat_minor": 0,
  "metadata": {
    "colab": {
      "provenance": []
    },
    "kernelspec": {
      "name": "python3",
      "display_name": "Python 3"
    },
    "language_info": {
      "name": "python"
    }
  },
  "cells": [
    {
      "cell_type": "markdown",
      "source": [
        "# 파이썬 시작하기"
      ],
      "metadata": {
        "id": "eLmhIOyyjSfg"
      }
    },
    {
      "cell_type": "markdown",
      "source": [
        "## 1. 세미 콜론(;)"
      ],
      "metadata": {
        "id": "dqFn3-6djz7v"
      }
    },
    {
      "cell_type": "code",
      "source": [
        "# 문장 끝에 세미콜론(;)을 붙이지 않는다.\n",
        "print('Hello')"
      ],
      "metadata": {
        "colab": {
          "base_uri": "https://localhost:8080/"
        },
        "id": "0__9e1F5jaXm",
        "outputId": "2263d493-af85-4763-fbc0-34893425da24"
      },
      "execution_count": 3,
      "outputs": [
        {
          "output_type": "stream",
          "name": "stdout",
          "text": [
            "Hello\n"
          ]
        }
      ]
    },
    {
      "cell_type": "code",
      "source": [
        "# 한 줄에 여러 문장을 사용할 경우에는 세미콜론을 사용함\n",
        "print('Hello'); print('World')"
      ],
      "metadata": {
        "colab": {
          "base_uri": "https://localhost:8080/"
        },
        "id": "LG6jmte4kGt-",
        "outputId": "d02c44e6-ae57-40e7-f912-4c6d5fd0f697"
      },
      "execution_count": 4,
      "outputs": [
        {
          "output_type": "stream",
          "name": "stdout",
          "text": [
            "Hello\n",
            "World\n"
          ]
        }
      ]
    },
    {
      "cell_type": "markdown",
      "source": [
        "## 2. 주석(Comment)"
      ],
      "metadata": {
        "id": "AaASFRJNlEif"
      }
    },
    {
      "cell_type": "code",
      "source": [
        "# 한 줄짜리 주석\n",
        "print('Hello')      # 문장 뒤에 사용하는 주석"
      ],
      "metadata": {
        "colab": {
          "base_uri": "https://localhost:8080/"
        },
        "id": "L_z7xL87ko7d",
        "outputId": "3a425263-b998-4a08-bc0b-5685df877220"
      },
      "execution_count": 7,
      "outputs": [
        {
          "output_type": "stream",
          "name": "stdout",
          "text": [
            "Hello\n"
          ]
        }
      ]
    },
    {
      "cell_type": "code",
      "source": [
        "# 여러줄의 주석\n",
        "# 여러줄의 주석\n",
        "'''\n",
        "원래는 멀티 라인 문자열로 사용됨\n",
        "주석으로도 사용됨\n",
        "'''"
      ],
      "metadata": {
        "colab": {
          "base_uri": "https://localhost:8080/",
          "height": 35
        },
        "id": "Vb9zviYJk-2u",
        "outputId": "d329bdcd-4723-4493-e5e2-2df96e182272"
      },
      "execution_count": 9,
      "outputs": [
        {
          "output_type": "execute_result",
          "data": {
            "text/plain": [
              "'\\n원래는 멀티 라인 문자열로 사용됨\\n주석으로도 사용됨\\n'"
            ],
            "application/vnd.google.colaboratory.intrinsic+json": {
              "type": "string"
            }
          },
          "metadata": {},
          "execution_count": 9
        }
      ]
    },
    {
      "cell_type": "code",
      "source": [
        "# \"\"\" \"\"\" 도 ''' '''과 동일하게 사용됨"
      ],
      "metadata": {
        "id": "tSLXRth2lSOQ"
      },
      "execution_count": 10,
      "outputs": []
    },
    {
      "cell_type": "markdown",
      "source": [
        "### 3. 들여쓰기(Indentation)"
      ],
      "metadata": {
        "id": "KGJFVgx4mSaP"
      }
    },
    {
      "cell_type": "code",
      "source": [
        "num = 3\n",
        "if num % 2 == 1:\n",
        "  print('홀수')"
      ],
      "metadata": {
        "colab": {
          "base_uri": "https://localhost:8080/"
        },
        "id": "9PbxkGpPlwUZ",
        "outputId": "5ed559bb-4a96-40a2-c937-73074ca6cb11"
      },
      "execution_count": 12,
      "outputs": [
        {
          "output_type": "stream",
          "name": "stdout",
          "text": [
            "홀수\n"
          ]
        }
      ]
    },
    {
      "cell_type": "code",
      "source": [
        "sum = 0\n",
        "for i in range(1,11):\n",
        "  sum += i\n",
        "  print('for loop이 돌때마다 찍힘:', sum)\n",
        "print('for loop이 끝난 후 찍힘:', sum)"
      ],
      "metadata": {
        "colab": {
          "base_uri": "https://localhost:8080/"
        },
        "id": "xOSxVPa8nK-X",
        "outputId": "ad63d5cf-ff0b-453c-f18b-42721635350e"
      },
      "execution_count": 13,
      "outputs": [
        {
          "output_type": "stream",
          "name": "stdout",
          "text": [
            "for loop이 돌때마다 찍힘: 1\n",
            "for loop이 돌때마다 찍힘: 3\n",
            "for loop이 돌때마다 찍힘: 6\n",
            "for loop이 돌때마다 찍힘: 10\n",
            "for loop이 돌때마다 찍힘: 15\n",
            "for loop이 돌때마다 찍힘: 21\n",
            "for loop이 돌때마다 찍힘: 28\n",
            "for loop이 돌때마다 찍힘: 36\n",
            "for loop이 돌때마다 찍힘: 45\n",
            "for loop이 돌때마다 찍힘: 55\n",
            "for loop이 끝난 후 찍힘: 55\n"
          ]
        }
      ]
    },
    {
      "cell_type": "markdown",
      "source": [
        "### 4. 코드 블록"
      ],
      "metadata": {
        "id": "w9E_jxDnsAuQ"
      }
    },
    {
      "cell_type": "code",
      "source": [
        "# 콜론(:)과 이후 들여쓰기로 코드 블록이 결정됨\n",
        "if sum % 2 == 1:\n",
        "  print(sum)\n",
        "  print('홀수입니다.')"
      ],
      "metadata": {
        "colab": {
          "base_uri": "https://localhost:8080/"
        },
        "id": "PA6kWzO4rGeY",
        "outputId": "ad9b9618-56d4-4df4-ef6b-eb346e80fdd9"
      },
      "execution_count": 15,
      "outputs": [
        {
          "output_type": "stream",
          "name": "stdout",
          "text": [
            "55\n",
            "홀수입니다.\n"
          ]
        }
      ]
    },
    {
      "cell_type": "code",
      "source": [],
      "metadata": {
        "id": "x27ME8dbsk6I"
      },
      "execution_count": null,
      "outputs": []
    }
  ]
}